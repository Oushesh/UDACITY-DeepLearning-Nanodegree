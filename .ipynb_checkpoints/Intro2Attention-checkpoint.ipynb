{
 "cells": [
  {
   "cell_type": "markdown",
   "metadata": {},
   "source": [
    "\"One important property of human perception is that one does not tend to process a whole scene in its entirety at once. \n",
    "Intead human focus attention seectively on parts of the visual scene to acquire information when and where it is needed, \n",
    "and comvine information from different fixations over time to build up an internal representation of the scene, guiding \n",
    "future eye movements and decision making.\" Recurrent models of visual attention, 2014"
   ]
  },
  {
   "cell_type": "code",
   "execution_count": null,
   "metadata": {},
   "outputs": [],
   "source": []
  }
 ],
 "metadata": {
  "kernelspec": {
   "display_name": "Python 3",
   "language": "python",
   "name": "python3"
  },
  "language_info": {
   "codemirror_mode": {
    "name": "ipython",
    "version": 3
   },
   "file_extension": ".py",
   "mimetype": "text/x-python",
   "name": "python",
   "nbconvert_exporter": "python",
   "pygments_lexer": "ipython3",
   "version": "3.6.6"
  }
 },
 "nbformat": 4,
 "nbformat_minor": 2
}
